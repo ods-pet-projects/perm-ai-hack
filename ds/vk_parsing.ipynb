{
 "cells": [
  {
   "cell_type": "markdown",
   "metadata": {},
   "source": [
    "Статья:\n",
    "\n",
    "https://medium.com/@pixc/%D0%BF%D1%80%D0%BE%D1%81%D1%82%D0%BE%D0%B9-%D0%BF%D0%B0%D1%80%D1%81%D0%B5%D1%80-%D0%B2%D0%BA-%D0%BD%D0%B0-python-5f202814eac3"
   ]
  },
  {
   "cell_type": "code",
   "execution_count": 199,
   "metadata": {},
   "outputs": [],
   "source": [
    "import requests\n",
    "import json\n",
    "import re\n",
    "import pandas as pd\n",
    "import numpy as np\n",
    "import torch\n",
    "\n",
    "\n",
    "from ftfy import fix_text\n",
    "from datetime import datetime\n",
    "from transformers import AutoTokenizer, AutoModelForSequenceClassification, AutoConfig\n",
    "from torch.nn import Softmax "
   ]
  },
  {
   "cell_type": "code",
   "execution_count": 348,
   "metadata": {},
   "outputs": [],
   "source": [
    "model_checkpoint = './rubert-tiny-toxicity'\n",
    "\n",
    "tokenizer = AutoTokenizer.from_pretrained(model_checkpoint)\n",
    "model = AutoModelForSequenceClassification.from_pretrained(model_checkpoint)\n",
    "\n",
    "\n",
    "def text2toxicity(text, aggregate=True):\n",
    "    with torch.no_grad():\n",
    "        inputs = tokenizer(text, return_tensors='pt', truncation=True, padding=True).to(model.device)\n",
    "        proba = torch.sigmoid(model(**inputs).logits).cpu().numpy()\n",
    "    if isinstance(text, str):\n",
    "        proba = proba[0]\n",
    "    if aggregate:\n",
    "        return 1 - proba.T[0] * (1 - proba.T[-1])\n",
    "    return proba\n",
    "\n",
    "\n",
    "### !!!эти функции уже должны быть в коде\n",
    "\n",
    "def remove_tags(lst):\n",
    "    for i, text in enumerate(lst):\n",
    "        tags = ['<passage>', '</passage>', '<hlword>', '</hlword>', '<title>', '</title>', '</url>', '<url>']\n",
    "        for tag in tags:\n",
    "            text = fix_text(text.replace(tag, ''))\n",
    "        lst[i] = text\n",
    "    return lst\n",
    "\n",
    "def get_search_engine(key, page):\n",
    "    query = f'http://xmlproxy.ru/search/xml?query={key}&groupby=attr%3Dd.mode%3Ddeep.groups-on-page%3D5.docs-in-group%3D3&maxpassages=1&page={page}&user=tumanov94%40gmail.com&key=5d1dd64c73b'\n",
    "    r = requests.get(query)\n",
    "\n",
    "    if r.status_code == 200:\n",
    "        text = r.text\n",
    "        titles = re.findall('<title>.*?</title>', text)\n",
    "        snippets = re.findall('<passage>.*?</passage>', text)\n",
    "        urls = re.findall('<url>.*?</url>', text)\n",
    "        \n",
    "    return list(zip(remove_tags(titles), remove_tags(snippets), remove_tags(urls)))"
   ]
  },
  {
   "cell_type": "code",
   "execution_count": 349,
   "metadata": {},
   "outputs": [],
   "source": [
    "def return_vk_urls(key):\n",
    "    vk_urls = []\n",
    "\n",
    "    for title, snippet, url in get_search_engine(key, 0):\n",
    "        if 'vk.com' in url:\n",
    "            vk_urls.append(url)\n",
    "    return vk_urls"
   ]
  },
  {
   "cell_type": "code",
   "execution_count": 351,
   "metadata": {},
   "outputs": [],
   "source": [
    "def return_json(query):\n",
    "    r = requests.get(query)\n",
    "    if r.ok:\n",
    "        json_content = json.loads(r.text)\n",
    "        return json_content"
   ]
  },
  {
   "cell_type": "code",
   "execution_count": 352,
   "metadata": {},
   "outputs": [],
   "source": [
    "def return_posts_vk(vk_urls):\n",
    "    vk_url = vk_urls[0]\n",
    "\n",
    "    if 'wall' in vk_url or 'public' in vk_url or 'club' in vk_url: \n",
    "        owner_id = re.search('[0-9]+', vk_url).group(0)\n",
    "        query_wall = f'https://api.vk.com/method/wall.get?owner_id=-{owner_id}&count=20&access_token=0225dccc46d44b32b92b49fee92&v=5.131'\n",
    "        wall_json = return_json(query_wall)\n",
    "        posts = []\n",
    "        for post in wall_json['response']['items']:\n",
    "            post_id = post['id']\n",
    "            post_text = post['text']\n",
    "            post_date = post['date']\n",
    "            query_post_comment = f'https://api.vk.com/method/wall.getComments?owner_id=-{owner_id}&post_id={post_id}&access_token=0225dccc46d44b32b92b49fee92&v=5.131'\n",
    "            comments_json = return_json(query_post_comment)\n",
    "\n",
    "            post_comments = []\n",
    "            for comment_item in comments_json['response']['items']:\n",
    "                post_comments.append(comment_item['text'])\n",
    "            posts.append((post_text, post_date, post_comments))\n",
    "\n",
    "    else:\n",
    "        domain = vk_url.replace('https://vk.com/', '')\n",
    "        query_wall = f'https://api.vk.com/method/wall.get?domain={domain}&count=20&access_token=0225dccc46d44b32b92b49fee92&v=5.131'\n",
    "        wall_json = return_json(query_wall)\n",
    "        owner_id = wall_json['response']['items'][0]['owner_id']\n",
    "        posts = []\n",
    "        for post in wall_json['response']['items']:\n",
    "            post_id = post['id']\n",
    "            post_text = post['text']\n",
    "            post_date = post['date']\n",
    "            query_post_comment = f'https://api.vk.com/method/wall.getComments?owner_id={owner_id}&post_id={post_id}&access_token=0225dccc46d44b32b92b49fee92&v=5.131'\n",
    "            comments_json = return_json(query_post_comment)\n",
    "\n",
    "            post_comments = []\n",
    "            for comment_item in comments_json['response']['items']:\n",
    "                post_comments.append(comment_item['text'])\n",
    "            posts.append((post_text, post_date, post_comments))  \n",
    "    return posts"
   ]
  },
  {
   "cell_type": "code",
   "execution_count": 546,
   "metadata": {},
   "outputs": [],
   "source": [
    "def return_posts_df(key):\n",
    "    vk_urls = return_vk_urls(key)\n",
    "    \n",
    "    if len(vk_urls) == 0:\n",
    "        return 'Данная организация не найдена в сообществах ВКонтакте',''\n",
    "    else:\n",
    "        posts = return_posts_vk(vk_urls)\n",
    "        posts_df = pd.DataFrame(posts, columns=['text', 'date', 'comments'])\n",
    "        posts_df['bank_cards'] = posts_df['text'].apply(lambda x: len(re.findall(r'[0-9]{4}\\s*[0-9]{4}\\s*[0-9]{4}\\s*[0-9]{4}', x)))\n",
    "        posts_df['sentiment'] = posts_df['comments'].apply(lambda comments: np.mean([text2toxicity(comment) for comment in comments if comment != '' and 'http' not in comment]) if len(comments) != 0 else np.nan)\n",
    "        return posts_df, vk_urls[0]"
   ]
  },
  {
   "cell_type": "code",
   "execution_count": 547,
   "metadata": {},
   "outputs": [],
   "source": [
    "def return_mean_sentiment(df):\n",
    "    mean_sentiment = df[~df['sentiment'].isnull()]['sentiment'].mean()\n",
    "    return f'Средняя величина сентимента равна: {round(mean_sentiment, 2) * 100}%'"
   ]
  },
  {
   "cell_type": "code",
   "execution_count": 622,
   "metadata": {},
   "outputs": [],
   "source": [
    "def return_bank_card_count(df):\n",
    "    bank_cards_count = df['bank_cards'].sum()\n",
    "    text_comment = df.loc[(df['bank_cards'] == df['bank_cards'].max()) & (df['bank_cards'] != 0), 'text'].values\n",
    "    if text_comment:\n",
    "        text_comment = re.sub(r'\\s+', ' ', text_comment[0])\n",
    "        return f'Количество упоминаний банковских карт или реквизитов в последних 40 (если есть) постах на стене: {bank_cards_count}', f'Пост с упоминанием банковской карты: {text_comment}'\n",
    "    else:\n",
    "        return f'Количество упоминаний банковских карт или реквизитов в последних 40 (если есть) постах на стене: {bank_cards_count}', 'Посты с банковскими картами отсутствуют'"
   ]
  },
  {
   "cell_type": "code",
   "execution_count": 623,
   "metadata": {},
   "outputs": [],
   "source": [
    "def return_last_post_days_from_now(df):\n",
    "    days = (datetime.now() - datetime.utcfromtimestamp(df.loc[0, 'date'])).days\n",
    "    return f'С момента публикации последнего поста прошло {days} дней'"
   ]
  },
  {
   "cell_type": "code",
   "execution_count": 641,
   "metadata": {},
   "outputs": [],
   "source": [
    "def return_toxic_comments(df):\n",
    "    comments_sentiment = df.sort_values(by='sentiment', ascending=False)[['comments', 'sentiment']]\n",
    "    comments_sentiment['comments'] = comments_sentiment['comments'].apply(lambda x: x[0] if x else 0)\n",
    "    lst_comms = [f'Комментарий: {comment}, сентимент {round(sentiment, 2)}' for comment, sentiment in comments_sentiment.head(5).values if comment]\n",
    "    lst_comms = [re.sub(r'\\s+', ' ', sent) for sent in lst_comms]\n",
    "    return lst_comms"
   ]
  },
  {
   "cell_type": "code",
   "execution_count": 644,
   "metadata": {},
   "outputs": [],
   "source": [
    "def return_posts_agg_inform(key):\n",
    "    posts_df, url = return_posts_df(key)\n",
    "\n",
    "    if isinstance(posts_df, str):\n",
    "        return posts_df\n",
    "    \n",
    "    elif isinstance(posts_df, pd.DataFrame):\n",
    "        sentiment = return_mean_sentiment(posts_df)\n",
    "        cards_count, bank_card_post = return_bank_card_count(posts_df)\n",
    "        last_post_days = return_last_post_days_from_now(posts_df)\n",
    "        toxic_comments = return_toxic_comments(posts_df)\n",
    "        url = f'Ссылка на группу: {url}'\n",
    "    \n",
    "    posts_inform = [url, sentiment, cards_count, bank_card_post, last_post_days]\n",
    "    posts_inform.extend(toxic_comments)\n",
    "    return posts_inform"
   ]
  },
  {
   "cell_type": "code",
   "execution_count": 645,
   "metadata": {},
   "outputs": [
    {
     "data": {
      "text/plain": [
       "['Ссылка на группу: https://vk.com/aureya',\n",
       " 'Средняя величина сентимента равна: 17.0%',\n",
       " 'Количество упоминаний банковских карт или реквизитов в последних 40 (если есть) постах на стене: 2',\n",
       " 'Пост с упоминанием банковской карты: Благотворительный сбор для Маши Павловской окончен. Программа закрыта. Спасибо всем, кто помог! Маша родилась 19 марта 2004 года (10 лет) в городе Краснодар. У девочки ДЦП, спастическая диплегия, множественные контрактуры суставов и конечностей. Ей тяжело ходить, также присутствует нарушение походки и деформация стоп. Благотворительная помощь Маше Павловской Маша пережила операцию на тазобедренных суставах и теперь ей нужна постоянная реабилитация, а также дорогостоящее медикаментозное лечение. Мама Маши - Павловская Лариса обратилась в наш Фонд за благотворительной помощью и мы инициировали благотворительный сбор для Марии. Телефон мамы девочки, Людмилы Павловской: (918) 39 66 891 Вы можете перечислить благотворительный взнос на расчетный счет мамы Маши: Счет получателя: 40817810730003603999 Банк: Отделение №8619 Сбербанка России г. Краснодар Код подразделения банка: 5286190139 Карточка: 5469 3004 0435 0503 Получатель: Павловская Лариса Викторовна Все документы, подтверждающие болезнь девочки: выписки, рекомендации, справки, свидетельство о рождении, документы матери вы можете посмотреть в одноименном альбоме (документы Маши Павловской)',\n",
       " 'С момента публикации последнего поста прошло 2271 дней',\n",
       " 'Комментарий: Это мошенники , сентимент 0.23',\n",
       " 'Комментарий: Это очень благородно, что вы помогаете больным деткам! Но пожертвования - это добровольное дело! То, как сегодня Ваш работник собирал деньги в метро - это кошмар!!! Подходил к каждому пассажиру, вплотную, наезжал, стыдил фразами \"что, у вас нет пары монет? Вы не понимаете, что ему нужна помощь?\" Если у вас все работники такие, то это самый мерзкий благотворительный фонд! И эта информация будет везде, чтобы такие методы благотворительности не смели применяться!, сентимент 0.2',\n",
       " 'Комментарий: и сколько вообщем пожертвовали дет дому?, сентимент 0.08']"
      ]
     },
     "execution_count": 645,
     "metadata": {},
     "output_type": "execute_result"
    }
   ],
   "source": [
    "name_org = 'Благотворительный фонд аурея'\n",
    "\n",
    "return_posts_agg_inform(name_org)"
   ]
  },
  {
   "cell_type": "code",
   "execution_count": null,
   "metadata": {},
   "outputs": [],
   "source": []
  },
  {
   "cell_type": "code",
   "execution_count": null,
   "metadata": {},
   "outputs": [],
   "source": []
  },
  {
   "cell_type": "code",
   "execution_count": 545,
   "metadata": {},
   "outputs": [],
   "source": [
    "model_checkpoint = './rubert-tiny-toxicity'\n",
    "tokenizer = AutoTokenizer.from_pretrained(model_checkpoint)\n",
    "model = AutoModelForSequenceClassification.from_pretrained(model_checkpoint)\n",
    "\n",
    "\n",
    "def text2toxicity(text, aggregate=True):\n",
    "    \"\"\" Calculate toxicity of a text (if aggregate=True) or a vector of toxicity aspects (if aggregate=False)\"\"\"\n",
    "    with torch.no_grad():\n",
    "        inputs = tokenizer(text, return_tensors='pt', truncation=True, padding=True).to(model.device)\n",
    "        proba = torch.sigmoid(model(**inputs).logits).cpu().numpy()\n",
    "    if isinstance(text, str):\n",
    "        proba = proba[0]\n",
    "    if aggregate:\n",
    "        return 1 - proba.T[0] * (1 - proba.T[-1])\n",
    "    return proba"
   ]
  },
  {
   "cell_type": "code",
   "execution_count": 544,
   "metadata": {},
   "outputs": [
    {
     "data": {
      "text/plain": [
       "0.0210785186412924"
      ]
     },
     "execution_count": 544,
     "metadata": {},
     "output_type": "execute_result"
    }
   ],
   "source": [
    "text2toxicity('любовь')"
   ]
  },
  {
   "cell_type": "code",
   "execution_count": null,
   "metadata": {},
   "outputs": [],
   "source": []
  },
  {
   "cell_type": "code",
   "execution_count": null,
   "metadata": {},
   "outputs": [],
   "source": []
  },
  {
   "cell_type": "code",
   "execution_count": null,
   "metadata": {},
   "outputs": [],
   "source": []
  },
  {
   "cell_type": "code",
   "execution_count": 476,
   "metadata": {},
   "outputs": [],
   "source": [
    "name_org = 'Благотворительный фонд дедморозим'"
   ]
  },
  {
   "cell_type": "code",
   "execution_count": 477,
   "metadata": {},
   "outputs": [],
   "source": [
    "def return_desc_group(name_org):\n",
    "    vk_urls = return_vk_urls(name_org)\n",
    "    if len(vk_urls) == 0:\n",
    "        return 'Группа не найдена'\n",
    "    \n",
    "    else:\n",
    "        vk_url = vk_urls[0]\n",
    "\n",
    "        if 'wall' in vk_url or 'public' in vk_url or 'club' in vk_url:\n",
    "            group_id = re.search('[0-9]+', vk_url).group(0)\n",
    "        else:\n",
    "            group_id = vk_url.replace('https://vk.com/', '')\n",
    "\n",
    "        group_info_query = f'https://api.vk.com/method/groups.getById?v=5.95&fields=members_count,description,contacts&access_token=0225dccc46d44b32b92b49fee92&group_id={group_id}'\n",
    "        group_info_json = return_json(group_info_query)\n",
    "        group_description = group_info_json['response'][0]['description']\n",
    "        group_description = re.sub('\\s+', ' ', group_description)\n",
    "        return group_description"
   ]
  },
  {
   "cell_type": "code",
   "execution_count": 478,
   "metadata": {},
   "outputs": [
    {
     "data": {
      "text/plain": [
       "'«Дедморозим» объединяет людей ради совершения чудес для детей-сирот и ребят со смертельно опасными заболеваниями. Никто не обязан помогать другим. Но это чудо, когда такой шанс есть. Фонд создан в 2012 году обычными людьми, к его появлению не имеют отношения какие-либо государственные, политические или бизнес-структуры и деятели. Достижения «Дедморозим» в равной степени принадлежат всем участникам помощи детям. «Дедморозим» — это вы. Проекты «Дедморозим»: https://dedmorozim.ru/projects/ Как помочь: https://dedmorozim.ru/dedmorozit/ Стать фото- или автоволонтёром: https://dedmorozim.ru/volonteru/ Отчёты: https://dedmorozim.ru/report/'"
      ]
     },
     "execution_count": 478,
     "metadata": {},
     "output_type": "execute_result"
    }
   ],
   "source": [
    "return_desc_group(name_org)"
   ]
  },
  {
   "cell_type": "code",
   "execution_count": null,
   "metadata": {},
   "outputs": [],
   "source": []
  }
 ],
 "metadata": {
  "kernelspec": {
   "display_name": "Python 3",
   "language": "python",
   "name": "python3"
  },
  "language_info": {
   "codemirror_mode": {
    "name": "ipython",
    "version": 3
   },
   "file_extension": ".py",
   "mimetype": "text/x-python",
   "name": "python",
   "nbconvert_exporter": "python",
   "pygments_lexer": "ipython3",
   "version": "3.7.2"
  }
 },
 "nbformat": 4,
 "nbformat_minor": 2
}
