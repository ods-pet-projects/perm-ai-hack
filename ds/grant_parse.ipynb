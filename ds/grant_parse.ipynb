{
 "cells": [
  {
   "cell_type": "code",
   "execution_count": 62,
   "metadata": {},
   "outputs": [],
   "source": [
    "import requests\n",
    "from bs4 import BeautifulSoup\n",
    "import pandas as pd\n",
    "import re"
   ]
  },
  {
   "cell_type": "code",
   "execution_count": 63,
   "metadata": {
    "scrolled": false
   },
   "outputs": [],
   "source": [
    "def get_grant_features(inn):\n",
    "    query = f'https://xn--80afcdbalict6afooklqi5o.xn--p1ai/public/application/cards?SearchString={inn}&Statuses%5B0%5D.Selected=true&Statuses%5B0%5D.Name=%D0%BF%D0%BE%D0%B1%D0%B5%D0%B4%D0%B8%D1%82%D0%B5%D0%BB%D1%8C+%D0%BA%D0%BE%D0%BD%D0%BA%D1%83%D1%80%D1%81%D0%B0&Statuses%5B1%5D.Name=%D0%BD%D0%B0+%D0%BD%D0%B5%D0%B7%D0%B0%D0%B2%D0%B8%D1%81%D0%B8%D0%BC%D0%BE%D0%B9+%D1%8D%D0%BA%D1%81%D0%BF%D0%B5%D1%80%D1%82%D0%B8%D0%B7%D0%B5&Statuses%5B2%5D.Name=%D0%BF%D1%80%D0%BE%D0%B5%D0%BA%D1%82+%D0%BD%D0%B5+%D0%BF%D0%BE%D0%BB%D1%83%D1%87%D0%B8%D0%BB+%D0%BF%D0%BE%D0%B4%D0%B4%D0%B5%D1%80%D0%B6%D0%BA%D1%83&RegionId=&ContestDirectionTenantId=&IsNormalTermProjects=true&IsLongTermProjects=true&CompetitionId=&DateFrom=&DateTo=&Statuses%5B0%5D.Selected=false&Statuses%5B1%5D.Selected=false&Statuses%5B2%5D.Selected=false&IsNormalTermProjects=false&IsLongTermProjects=false'\n",
    "    main_request = requests.get(query, headers = {'User-Agent': 'Googlebot'})\n",
    "    main_page = BeautifulSoup(main_request.text)\n",
    "    \n",
    "    all_features = {}\n",
    "\n",
    "    for link in main_page.findAll('a'):\n",
    "            features = {}\n",
    "            if 'href' in link.attrs:\n",
    "                if 'public/application/item?' in link['href']:\n",
    "                    grant_link = 'https://xn--80afcdbalict6afooklqi5o.xn--p1ai' + link['href']\n",
    "                    request = requests.get(grant_link, headers = {'User-Agent': 'Googlebot'})   \n",
    "                    page = BeautifulSoup(request.text)\n",
    "\n",
    "                    for li in page.findAll('li', class_='winner-info__list-item'):\n",
    "                        feature_name = li.find('span', class_='winner-info__list-item-title').text\n",
    "                        feature_value = li.find('span', class_='winner-info__list-item-text').text\n",
    "                        feature_value = re.sub(r'\\s+', ' ', feature_value).strip()\n",
    "                        features[feature_name] = feature_value\n",
    "\n",
    "                    for li in page.findAll('li', class_='circle-bar__info-item'):\n",
    "                        feature_name = li.find('span', class_='circle-bar__info-item-title').text\n",
    "                        feature_value = li.find('span', class_='circle-bar__info-item-number').text\n",
    "                        feature_value = re.sub(r'\\s+', ' ', feature_value).strip()\n",
    "                        features[feature_name] = feature_value\n",
    "\n",
    "                    text_description = page.findAll('div', class_='winner__details-box')\n",
    "\n",
    "                    for block in text_description:    \n",
    "                        feature_name = block.h2.text.strip()\n",
    "                        feature_value = re.sub('\\s+', ' ', block.text).replace(feature_name, '').strip()\n",
    "                        features[feature_name] = feature_value\n",
    "            if features:        \n",
    "                all_features[grant_link] = features\n",
    "                \n",
    "    feat_df = pd.DataFrame.from_dict(all_features, orient='index')\n",
    "    return feat_df"
   ]
  },
  {
   "cell_type": "code",
   "execution_count": 64,
   "metadata": {
    "scrolled": false
   },
   "outputs": [],
   "source": [
    "def normalize_decimal_cols(df):\n",
    "    float_cols = ['Размер гранта', \n",
    "                  'Общая сумма расходов на реализацию проекта', \n",
    "                  'Cофинансирование', \n",
    "                  'Перечислено Фондом на реализацию проекта', \n",
    "                  'Рейтинг заявки']\n",
    "    \n",
    "    for col in float_cols:\n",
    "        if col in list(df):\n",
    "            if col == 'Рейтинг заявки':\n",
    "                df[col] = df[col].apply(lambda x: float(x.replace(',', '.')) if x else x)\n",
    "            else:\n",
    "                df[col] = df[col].apply(lambda x: float(''.join(re.findall('[0-9]+', x.split(',')[0]))) if x else x)\n",
    "    return df"
   ]
  },
  {
   "cell_type": "code",
   "execution_count": 35,
   "metadata": {},
   "outputs": [],
   "source": []
  },
  {
   "cell_type": "code",
   "execution_count": 67,
   "metadata": {},
   "outputs": [],
   "source": [
    "def grant_info_flg(inn):\n",
    "    grant_info = get_grant_features(inn)\n",
    "    if len(grant_info) > 0:\n",
    "        return True\n",
    "    else:\n",
    "        return False\n",
    "    \n",
    "    if isinstance(grant_info, pd.DataFrame):\n",
    "        return True\n",
    "    else:\n",
    "        return False"
   ]
  },
  {
   "cell_type": "code",
   "execution_count": 68,
   "metadata": {},
   "outputs": [
    {
     "data": {
      "text/plain": [
       "True"
      ]
     },
     "execution_count": 68,
     "metadata": {},
     "output_type": "execute_result"
    }
   ],
   "source": [
    "grant_info_flg(inn)"
   ]
  },
  {
   "cell_type": "code",
   "execution_count": 92,
   "metadata": {},
   "outputs": [
    {
     "name": "stderr",
     "output_type": "stream",
     "text": [
      "/opt/conda/lib/python3.7/site-packages/cryptography/hazmat/backends/openssl/x509.py:18: CryptographyDeprecationWarning: This version of cryptography contains a temporary pyOpenSSL fallback path. Upgrade pyOpenSSL now.\n",
      "  utils.DeprecatedIn35,\n"
     ]
    }
   ],
   "source": [
    "inn = '2222848892'\n",
    "\n",
    "df = get_grant_features(inn)\n",
    "df = normalize_decimal_cols(df)\n",
    "df.reset_index(inplace=True)"
   ]
  },
  {
   "cell_type": "code",
   "execution_count": 96,
   "metadata": {},
   "outputs": [
    {
     "data": {
      "text/plain": [
       "[array(['https://xn--80afcdbalict6afooklqi5o.xn--p1ai/public/application/item?id=E6CA268D-1EBE-424D-A88F-D6F85FB6E9CB',\n",
       "        71.17, 5764085.0, 7610433.0,\n",
       "        'Организация регулярной комплексной поддержки и сопровождения в преодолении кризисной ситуации для малообеспеченных и многодетных семей на базе районных \"узловых центров\" не менее чем в 10 населенных пунктах Алтайского края и Республики Алтай в период февраль 2021-январь 2022 гг.'],\n",
       "       dtype=object),\n",
       " array(['https://xn--80afcdbalict6afooklqi5o.xn--p1ai/public/application/item?id=EE703719-C598-4317-BFEA-A1449850A778',\n",
       "        72.0, 2927552.0, 3057827.0,\n",
       "        'Создание условий для непрерывного посещения спортивных секций, укрепления здоровья и повышения уровня жизни не менее чем для 150 детей в возрасте от 4 до 15 лет из малообеспеченных и многодетных семей, проживающих на территории Алтайского края в 2020-2021 гг.'],\n",
       "       dtype=object),\n",
       " array(['https://xn--80afcdbalict6afooklqi5o.xn--p1ai/public/application/item?id=E7A5E616-EE77-4B9C-B8F5-36BC68B93A41',\n",
       "        65.25, 2232214.0, 917220.0,\n",
       "        'Проведение образовательной программы \"Школа Жизни\" по выходу из кризисной ситуации и трудоустройству не менее чем для 250 малоимущих и многодетных женщин с маленькими детьми'],\n",
       "       dtype=object)]"
      ]
     },
     "execution_count": 96,
     "metadata": {},
     "output_type": "execute_result"
    }
   ],
   "source": [
    "list(df[['index', 'Рейтинг заявки', 'Размер гранта', 'Cофинансирование', 'Цель']].values)"
   ]
  },
  {
   "cell_type": "code",
   "execution_count": 88,
   "metadata": {},
   "outputs": [
    {
     "data": {
      "text/html": [
       "<div>\n",
       "<style scoped>\n",
       "    .dataframe tbody tr th:only-of-type {\n",
       "        vertical-align: middle;\n",
       "    }\n",
       "\n",
       "    .dataframe tbody tr th {\n",
       "        vertical-align: top;\n",
       "    }\n",
       "\n",
       "    .dataframe thead th {\n",
       "        text-align: right;\n",
       "    }\n",
       "</style>\n",
       "<table border=\"1\" class=\"dataframe\">\n",
       "  <thead>\n",
       "    <tr style=\"text-align: right;\">\n",
       "      <th></th>\n",
       "      <th>level_0</th>\n",
       "      <th>index</th>\n",
       "      <th>Конкурс</th>\n",
       "      <th>Грантовое направление</th>\n",
       "      <th>Рейтинг заявки</th>\n",
       "      <th>Номер заявки</th>\n",
       "      <th>Дата подачи</th>\n",
       "      <th>Сроки реализации</th>\n",
       "      <th>Организация</th>\n",
       "      <th>ИНН</th>\n",
       "      <th>...</th>\n",
       "      <th>Размер гранта</th>\n",
       "      <th>Cофинансирование</th>\n",
       "      <th>Перечислено Фондом на реализацию проекта</th>\n",
       "      <th>Краткое описание</th>\n",
       "      <th>Цель</th>\n",
       "      <th>Задачи</th>\n",
       "      <th>Обоснование социальной значимости</th>\n",
       "      <th>География проекта</th>\n",
       "      <th>Целевые группы</th>\n",
       "      <th>Контактная информация</th>\n",
       "    </tr>\n",
       "  </thead>\n",
       "  <tbody>\n",
       "    <tr>\n",
       "      <th>0</th>\n",
       "      <td>0</td>\n",
       "      <td>https://xn--80afcdbalict6afooklqi5o.xn--p1ai/p...</td>\n",
       "      <td>Первый конкурс 2021</td>\n",
       "      <td>Социальное обслуживание, социальная поддержка ...</td>\n",
       "      <td>71.17</td>\n",
       "      <td>21-1-001577</td>\n",
       "      <td>12.10.2020</td>\n",
       "      <td>01.02.2021 - 31.01.2022</td>\n",
       "      <td>ФОНД ПОМОЩИ МНОГОДЕТНЫМ И МАЛОИМУЩИМ СЕМЬЯМ, Д...</td>\n",
       "      <td>2222848892</td>\n",
       "      <td>...</td>\n",
       "      <td>5764085.0</td>\n",
       "      <td>7610433.0</td>\n",
       "      <td>5764085.0</td>\n",
       "      <td>Сердце Алтая - проект социальной комплексной п...</td>\n",
       "      <td>Организация регулярной комплексной поддержки и...</td>\n",
       "      <td>Организация работы районных \"узловых центров\" ...</td>\n",
       "      <td>Зарубежные исследования показывают, что дети, ...</td>\n",
       "      <td>Алтайский край (г. Барнаул + г. Новоалтайск, г...</td>\n",
       "      <td>Малообеспеченные и многодетные семьи Алтайског...</td>\n",
       "      <td>{\"address\":\"656043, г Барнаул, ул Анатолия, д ...</td>\n",
       "    </tr>\n",
       "    <tr>\n",
       "      <th>1</th>\n",
       "      <td>1</td>\n",
       "      <td>https://xn--80afcdbalict6afooklqi5o.xn--p1ai/p...</td>\n",
       "      <td>Второй конкурс 2020</td>\n",
       "      <td>Охрана здоровья граждан, пропаганда здорового ...</td>\n",
       "      <td>72.00</td>\n",
       "      <td>20-2-000118</td>\n",
       "      <td>04.04.2020</td>\n",
       "      <td>01.07.2020 - 30.06.2021</td>\n",
       "      <td>ФОНД ПОМОЩИ МНОГОДЕТНЫМ И МАЛОИМУЩИМ СЕМЬЯМ, Д...</td>\n",
       "      <td>2222848892</td>\n",
       "      <td>...</td>\n",
       "      <td>2927552.0</td>\n",
       "      <td>3057827.0</td>\n",
       "      <td>2927552.0</td>\n",
       "      <td>Проект \"Поддержи Чемпиона\" направлен на предос...</td>\n",
       "      <td>Создание условий для непрерывного посещения сп...</td>\n",
       "      <td>Разработка нормативных и учебно-методических м...</td>\n",
       "      <td>В докладе \"О роли субъектов Российской Федерац...</td>\n",
       "      <td>Алтайский край (г. Барнаул, г. Бийск, г. Зарин...</td>\n",
       "      <td>дети в возрасте от 4 до 15 лет из малообеспече...</td>\n",
       "      <td>{\"address\":\"656043, г Барнаул, Социалистически...</td>\n",
       "    </tr>\n",
       "    <tr>\n",
       "      <th>2</th>\n",
       "      <td>2</td>\n",
       "      <td>https://xn--80afcdbalict6afooklqi5o.xn--p1ai/p...</td>\n",
       "      <td>Первый конкурс 2020</td>\n",
       "      <td>Социальное обслуживание, социальная поддержка ...</td>\n",
       "      <td>65.25</td>\n",
       "      <td>20-1-002398</td>\n",
       "      <td>20.11.2019</td>\n",
       "      <td>01.03.2020 - 31.12.2020</td>\n",
       "      <td>ФОНД ПОМОЩИ МНОГОДЕТНЫМ И МАЛОИМУЩИМ СЕМЬЯМ, Д...</td>\n",
       "      <td>2222848892</td>\n",
       "      <td>...</td>\n",
       "      <td>2232214.0</td>\n",
       "      <td>917220.0</td>\n",
       "      <td>2232214.0</td>\n",
       "      <td>\"Школа жизни\" - программа Фонда \"Облака\", приз...</td>\n",
       "      <td>Проведение образовательной программы \"Школа Жи...</td>\n",
       "      <td>Разработка пакета нормативных и учебно-методич...</td>\n",
       "      <td>Численность россиян с денежными доходами ниже ...</td>\n",
       "      <td>Алтайский край</td>\n",
       "      <td>малоимущие и многодетные женщины с маленькими ...</td>\n",
       "      <td>{\"address\":\"656043, г Барнаул, Социалистически...</td>\n",
       "    </tr>\n",
       "  </tbody>\n",
       "</table>\n",
       "<p>3 rows × 21 columns</p>\n",
       "</div>"
      ],
      "text/plain": [
       "   level_0                                              index  \\\n",
       "0        0  https://xn--80afcdbalict6afooklqi5o.xn--p1ai/p...   \n",
       "1        1  https://xn--80afcdbalict6afooklqi5o.xn--p1ai/p...   \n",
       "2        2  https://xn--80afcdbalict6afooklqi5o.xn--p1ai/p...   \n",
       "\n",
       "               Конкурс                              Грантовое направление  \\\n",
       "0  Первый конкурс 2021  Социальное обслуживание, социальная поддержка ...   \n",
       "1  Второй конкурс 2020  Охрана здоровья граждан, пропаганда здорового ...   \n",
       "2  Первый конкурс 2020  Социальное обслуживание, социальная поддержка ...   \n",
       "\n",
       "   Рейтинг заявки Номер заявки Дата подачи         Сроки реализации  \\\n",
       "0           71.17  21-1-001577  12.10.2020  01.02.2021 - 31.01.2022   \n",
       "1           72.00  20-2-000118  04.04.2020  01.07.2020 - 30.06.2021   \n",
       "2           65.25  20-1-002398  20.11.2019  01.03.2020 - 31.12.2020   \n",
       "\n",
       "                                         Организация         ИНН  ...  \\\n",
       "0  ФОНД ПОМОЩИ МНОГОДЕТНЫМ И МАЛОИМУЩИМ СЕМЬЯМ, Д...  2222848892  ...   \n",
       "1  ФОНД ПОМОЩИ МНОГОДЕТНЫМ И МАЛОИМУЩИМ СЕМЬЯМ, Д...  2222848892  ...   \n",
       "2  ФОНД ПОМОЩИ МНОГОДЕТНЫМ И МАЛОИМУЩИМ СЕМЬЯМ, Д...  2222848892  ...   \n",
       "\n",
       "  Размер гранта  Cофинансирование  Перечислено Фондом на реализацию проекта  \\\n",
       "0     5764085.0         7610433.0                                 5764085.0   \n",
       "1     2927552.0         3057827.0                                 2927552.0   \n",
       "2     2232214.0          917220.0                                 2232214.0   \n",
       "\n",
       "                                    Краткое описание  \\\n",
       "0  Сердце Алтая - проект социальной комплексной п...   \n",
       "1  Проект \"Поддержи Чемпиона\" направлен на предос...   \n",
       "2  \"Школа жизни\" - программа Фонда \"Облака\", приз...   \n",
       "\n",
       "                                                Цель  \\\n",
       "0  Организация регулярной комплексной поддержки и...   \n",
       "1  Создание условий для непрерывного посещения сп...   \n",
       "2  Проведение образовательной программы \"Школа Жи...   \n",
       "\n",
       "                                              Задачи  \\\n",
       "0  Организация работы районных \"узловых центров\" ...   \n",
       "1  Разработка нормативных и учебно-методических м...   \n",
       "2  Разработка пакета нормативных и учебно-методич...   \n",
       "\n",
       "                   Обоснование социальной значимости  \\\n",
       "0  Зарубежные исследования показывают, что дети, ...   \n",
       "1  В докладе \"О роли субъектов Российской Федерац...   \n",
       "2  Численность россиян с денежными доходами ниже ...   \n",
       "\n",
       "                                   География проекта  \\\n",
       "0  Алтайский край (г. Барнаул + г. Новоалтайск, г...   \n",
       "1  Алтайский край (г. Барнаул, г. Бийск, г. Зарин...   \n",
       "2                                     Алтайский край   \n",
       "\n",
       "                                      Целевые группы  \\\n",
       "0  Малообеспеченные и многодетные семьи Алтайског...   \n",
       "1  дети в возрасте от 4 до 15 лет из малообеспече...   \n",
       "2  малоимущие и многодетные женщины с маленькими ...   \n",
       "\n",
       "                               Контактная информация  \n",
       "0  {\"address\":\"656043, г Барнаул, ул Анатолия, д ...  \n",
       "1  {\"address\":\"656043, г Барнаул, Социалистически...  \n",
       "2  {\"address\":\"656043, г Барнаул, Социалистически...  \n",
       "\n",
       "[3 rows x 21 columns]"
      ]
     },
     "execution_count": 88,
     "metadata": {},
     "output_type": "execute_result"
    }
   ],
   "source": [
    "\n",
    "df"
   ]
  }
 ],
 "metadata": {
  "kernelspec": {
   "display_name": "Python 3",
   "language": "python",
   "name": "python3"
  },
  "language_info": {
   "codemirror_mode": {
    "name": "ipython",
    "version": 3
   },
   "file_extension": ".py",
   "mimetype": "text/x-python",
   "name": "python",
   "nbconvert_exporter": "python",
   "pygments_lexer": "ipython3",
   "version": "3.7.2"
  }
 },
 "nbformat": 4,
 "nbformat_minor": 2
}
