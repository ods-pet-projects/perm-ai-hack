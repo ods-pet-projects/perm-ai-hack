{
 "cells": [
  {
   "cell_type": "code",
   "execution_count": 1,
   "metadata": {},
   "outputs": [
    {
     "name": "stdout",
     "output_type": "stream",
     "text": [
      "Collecting PyPDF2\n",
      "  Downloading PyPDF2-1.26.0.tar.gz (77 kB)\n",
      "\u001b[K     |████████████████████████████████| 77 kB 1.1 MB/s eta 0:00:011\n",
      "\u001b[?25hBuilding wheels for collected packages: PyPDF2\n",
      "  Building wheel for PyPDF2 (setup.py) ... \u001b[?25ldone\n",
      "\u001b[?25h  Created wheel for PyPDF2: filename=PyPDF2-1.26.0-py3-none-any.whl size=61101 sha256=a7bfb7a5965469e6027c5e05ea587144daeea8b5904fd0d2a8c602d6066fb441\n",
      "  Stored in directory: /home/dsvm/.cache/pip/wheels/97/28/4b/142b7d8c98eeeb73534b9c5b6558ddd3bab3c2c8192aa7ab30\n",
      "Successfully built PyPDF2\n",
      "Installing collected packages: PyPDF2\n",
      "Successfully installed PyPDF2-1.26.0\n",
      "\u001b[33mWARNING: You are using pip version 21.2.4; however, version 21.3 is available.\n",
      "You should consider upgrading via the '/opt/conda/envs/py36/bin/python -m pip install --upgrade pip' command.\u001b[0m\n"
     ]
    }
   ],
   "source": [
    "!pip install PyPDF2"
   ]
  },
  {
   "cell_type": "code",
   "execution_count": null,
   "metadata": {},
   "outputs": [],
   "source": []
  },
  {
   "cell_type": "code",
   "execution_count": 4,
   "metadata": {},
   "outputs": [
    {
     "name": "stdout",
     "output_type": "stream",
     "text": [
      "/home/dsvm/perm\r\n"
     ]
    }
   ],
   "source": [
    "!pwd"
   ]
  },
  {
   "cell_type": "code",
   "execution_count": 71,
   "metadata": {},
   "outputs": [],
   "source": [
    "########\n",
    "#\n",
    "#  returns None or last report on year\n",
    "#\n",
    "\n",
    "def get_minust_report(inn, year):\n",
    "    import subprocess\n",
    "    \n",
    "    try:\n",
    "        py2output = subprocess.check_output(['/home/dsvm/perm/go/make_parse', '-psrn', str(inn), '-y', str(year)])\n",
    "    except BaseException:\n",
    "        return None\n",
    "    \n",
    "    final_pdfs = []\n",
    "    \n",
    "    for u in py2output.split():\n",
    "        final_pdfs.append(u.decode(\"utf-8\").replace('\\n',''))\n",
    "    \n",
    "    final_pdfs = list(set(final_pdfs))\n",
    "\n",
    "    return final_pdfs\n",
    "\n"
   ]
  },
  {
   "cell_type": "code",
   "execution_count": 72,
   "metadata": {},
   "outputs": [
    {
     "name": "stdout",
     "output_type": "stream",
     "text": [
      "['http://unro.minjust.ru/Reports/102837401.pdf', 'http://unro.minjust.ru/Reports/105293301.pdf', 'http://unro.minjust.ru/Reports/105301601.pdf', 'http://unro.minjust.ru/Reports/105349101.pdf', 'http://unro.minjust.ru/Reports/102838601.pdf', 'http://unro.minjust.ru/Reports/105300701.pdf', 'http://unro.minjust.ru/Reports/105302401.pdf', 'http://unro.minjust.ru/Reports/105293401.pdf']\n"
     ]
    }
   ],
   "source": [
    "report = get_minust_report(1162225078388, 2021)\n",
    "\n",
    "if report is None:\n",
    "    print(\"Отсутствует отчёт\")\n",
    "else:\n",
    "    print(report)"
   ]
  },
  {
   "cell_type": "code",
   "execution_count": null,
   "metadata": {},
   "outputs": [],
   "source": []
  },
  {
   "cell_type": "code",
   "execution_count": 75,
   "metadata": {},
   "outputs": [
    {
     "data": {
      "text/plain": [
       "datetime.date(2020, 12, 29)"
      ]
     },
     "execution_count": 75,
     "metadata": {},
     "output_type": "execute_result"
    }
   ],
   "source": [
    "import datetime\n",
    "datetime.datetime.fromtimestamp(1609200000000 / 1e3).date()"
   ]
  }
 ],
 "metadata": {
  "kernelspec": {
   "display_name": "Python [conda env:py36]",
   "language": "python",
   "name": "conda-env-py36-py"
  },
  "language_info": {
   "codemirror_mode": {
    "name": "ipython",
    "version": 3
   },
   "file_extension": ".py",
   "mimetype": "text/x-python",
   "name": "python",
   "nbconvert_exporter": "python",
   "pygments_lexer": "ipython3",
   "version": "3.6.5"
  }
 },
 "nbformat": 4,
 "nbformat_minor": 2
}
